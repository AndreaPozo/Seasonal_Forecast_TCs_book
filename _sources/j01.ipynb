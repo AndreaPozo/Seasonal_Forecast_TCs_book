{
 "cells": [
  {
   "cell_type": "markdown",
   "metadata": {},
   "source": [
    "#  <font color='navy'>**1. Databases**</font> \n",
    "\n",
    "<br />"
   ]
  },
  {
   "cell_type": "markdown",
   "metadata": {},
   "source": [
    "* **Sea Surface Temperature (SST)**: The NOAA 1/4° daily Optimum Interpolation Sea Surface Temperature or daily OISST is an analysis constructed by combining observations from different platforms (satellites, ships, buoys and Argo floats) on a regular global grid.More information at the <a href=\"https://psl.noaa.gov/data/gridded/data.noaa.oisst.v2.html\" target=\"_blank\">OISST NOAA webpage</a>. \n",
    "<br>\n",
    "\n",
    "* **CFS (Climate Forecast System)**: It is a model produced by several dozen scientists under guidance from the National Centers for Environmental Prediction (NCEP), which offers hourly data with a horizontal resolution down to 1/2º. **Mixed Layer Depth (MLD), Mean Sea Level Pressure (SLP) and forecast data from both SST and MLD.** More information at the <a href=\"https://www.ncdc.noaa.gov/data-access/model-data/model-datasets/climate-forecast-system-version2-cfsv2#CFS%20Reanalysis%20(CFSR)\" target=\"_blank\">CFS NOAA webpage</a>. \n",
    "<br>\n",
    "\n",
    "* **Daily mean precipitation**: It is  generated from the research-quality 3-hourly **TRMM Multi-Satellite Precipitation** Analysis TMPA (3B42). Simple summation of valid retrievals in a grid cell is applied for the data day. The result is given in (mm). More information at the <a href=\"https://gpm.nasa.gov/missions/trmm\" target=\"_blank\">TRMM NASA webpage</a> or <a href=\"https://disc.gsfc.nasa.gov/datasets/TRMM_3B42_Daily_7/summary\" target=\"_blank\">TRMM 3B42 dataset product</a>.\n",
    "<br>\n",
    "\n",
    "* **Madden-Jullian Oscillation (MJO)**: from the Australian Bureau of Meteorology webpage, including MJO date (day, month and year), RMM1, RMM2, phase (1 to 8) and amplitude.More information at the <a href=\"http://www.bom.gov.au/climate/mjo/\" target=\"_blank\">MJO  Australian Bureau of Meteorology</a>.\n",
    "<br>\n",
    "\n",
    "* **IBTrACS v4**: This global dataset compiles an inventory of tropical cyclones (TCs) reported worldwide with their characteristics <a href=\"https://doi.org/10.1175/2009BAMS2755.1\" target=\"_blank\">(Knapp et al. 2010)</a>. Various parameters among which are the best-track position and intensity are provided at 6-h intervals . Data sources are each World Meteorological Organization (WMO) Regional Specialized Meteorological Centers (RSMCs) and Tropical Cyclone Warning Centres (TCWCs), as well as other national agencies.  Data for some basins are available as early as 1850. Data can be accessed and downloaded at <a href=\"https://www.ncdc.noaa.gov/ibtracs/\" target=\"_blank\">IBTrACS NOAA webpage.</a> <br>\n",
    "\n",
    "<br>    \n",
    "\n",
    "**Saffir-Simpson classification scale of tropical cyclones. Each category has been assigned a color used for all the figures in the work:**"
   ]
  },
  {
   "cell_type": "markdown",
   "metadata": {},
   "source": [
    "<br>\n",
    "\n",
    "![TITLE](intro2.png)"
   ]
  },
  {
   "cell_type": "markdown",
   "metadata": {},
   "source": [
    "<br>\n",
    "\n",
    "![TITLE](intro1.png)"
   ]
  }
 ],
 "metadata": {
  "kernelspec": {
   "display_name": "Python 3",
   "language": "python",
   "name": "python3"
  },
  "language_info": {
   "codemirror_mode": {
    "name": "ipython",
    "version": 3
   },
   "file_extension": ".py",
   "mimetype": "text/x-python",
   "name": "python",
   "nbconvert_exporter": "python",
   "pygments_lexer": "ipython3",
   "version": "3.7.3"
  }
 },
 "nbformat": 4,
 "nbformat_minor": 4
}
