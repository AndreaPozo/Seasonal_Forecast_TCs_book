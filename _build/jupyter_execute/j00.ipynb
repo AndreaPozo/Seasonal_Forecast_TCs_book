{
 "cells": [
  {
   "cell_type": "markdown",
   "metadata": {},
   "source": [
    "# <font color='navy'>**Overview**</font> \n",
    "\n",
    "<br />"
   ]
  },
  {
   "cell_type": "markdown",
   "metadata": {},
   "source": [
    "<br>\n",
    "\n",
    "<div style=\"padding: 15px; border: 1px solid transparent; border-color: transparent; margin-bottom: 20px; border-radius: 4px; color: rgb(0,0,0); background-color: lightskyblue; border-color: #faebcc; \">\n",
    "   \n",
    "**The <u>OBJETIVE</u> of this final master’s thesis is the development of a tropical cyclones (TCs) seasonal forecast outlook for a target area in the South Pacific basin through climate-based statistical techniques; which is of particular interest for practical application to predict the future risk and occurrence of TCs and to improve the resilience of Small Islands Developing States (SIDS) in the South Pacific.**\n",
    "   \n",
    "</div>"
   ]
  },
  {
   "cell_type": "markdown",
   "metadata": {},
   "source": [
    "![TITLE](intro00.jpg)"
   ]
  },
  {
   "cell_type": "markdown",
   "metadata": {},
   "source": [
    "<br>\n",
    "\n",
    "<div style=\"padding: 15px; border: 1px solid transparent; border-color: transparent; margin-bottom: 20px; border-radius: 4px; color: rgb(0,0,0); background-color: lightskyblue; border-color: #faebcc; \">\n",
    "   \n",
    "**METHODOLOGY:**\n",
    "   \n",
    "</div>"
   ]
  },
  {
   "cell_type": "markdown",
   "metadata": {},
   "source": [
    "It will first explore in **the relationship between the TCs genesis and the annual weather type (AWT) as El Niño, La Niña or neutral year and the Madden Jullian Oscillation (MJO); as large-scale predictors.**\n",
    "<br>\n",
    "\n",
    "Then the focus will be on the role of **sea-surface temperature (SST) and the mixed layer depth (MLD) as predictors for expected number of TCs in the target area.** A statistical downscaling model that identifies the patterns of large-scale SST – MLD associated with TCs activity in terms of incidence rate is developed. This way a tailor-made predictor, with the mean expected number of TCs as the predictand variable is built and it can be employed with forecast data to estimate the TC risk. \n",
    "<br>\n",
    "<br>\n",
    "\n",
    "**Tailor-made predictor:**"
   ]
  },
  {
   "cell_type": "markdown",
   "metadata": {},
   "source": [
    "<br>\n",
    "\n",
    "![TITLE](intro33.JPG)"
   ]
  },
  {
   "cell_type": "markdown",
   "metadata": {},
   "source": [
    "<br>\n",
    "<br>\n",
    "<br>\n",
    "\n",
    "![TITLE](intro44.jpg)"
   ]
  },
  {
   "cell_type": "markdown",
   "metadata": {},
   "source": [
    "<br>\n",
    "<br>\n",
    "\n",
    "<div style=\"padding: 15px; border: 1px solid transparent; border-color: transparent; margin-bottom: 20px; border-radius: 4px; color: rgb(0,0,0); background-color: lightskyblue; border-color: #faebcc; \">\n",
    "   \n",
    "**RESULTS:**\n",
    "   \n",
    "</div>"
   ]
  },
  {
   "cell_type": "markdown",
   "metadata": {},
   "source": [
    "<br>\n",
    "<br>\n",
    "\n",
    "![TITLE](ovf.png)"
   ]
  }
 ],
 "metadata": {
  "kernelspec": {
   "display_name": "Python 3",
   "language": "python",
   "name": "python3"
  },
  "language_info": {
   "codemirror_mode": {
    "name": "ipython",
    "version": 3
   },
   "file_extension": ".py",
   "mimetype": "text/x-python",
   "name": "python",
   "nbconvert_exporter": "python",
   "pygments_lexer": "ipython3",
   "version": "3.7.3"
  }
 },
 "nbformat": 4,
 "nbformat_minor": 4
}